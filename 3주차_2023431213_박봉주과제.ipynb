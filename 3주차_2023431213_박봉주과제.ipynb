{
  "nbformat": 4,
  "nbformat_minor": 0,
  "metadata": {
    "colab": {
      "provenance": [],
      "toc_visible": true,
      "include_colab_link": true
    },
    "kernelspec": {
      "name": "python3",
      "display_name": "Python 3"
    },
    "language_info": {
      "name": "python"
    }
  },
  "cells": [
    {
      "cell_type": "markdown",
      "metadata": {
        "id": "view-in-github",
        "colab_type": "text"
      },
      "source": [
        "<a href=\"https://colab.research.google.com/github/bjpark-forest/2023-1-Intro-DataScience/blob/main/3%EC%A3%BC%EC%B0%A8_2023431213_%EB%B0%95%EB%B4%89%EC%A3%BC%EA%B3%BC%EC%A0%9C.ipynb\" target=\"_parent\"><img src=\"https://colab.research.google.com/assets/colab-badge.svg\" alt=\"Open In Colab\"/></a>"
      ]
    },
    {
      "cell_type": "markdown",
      "source": [
        "# 2장 파이썬 핵심 문법"
      ],
      "metadata": {
        "id": "-bMsU1vNGtLK"
      }
    },
    {
      "cell_type": "markdown",
      "source": [
        "## 2.10 파이썬 핵심 문법 연습 문제"
      ],
      "metadata": {
        "id": "OfGr2KcLHytW"
      }
    },
    {
      "cell_type": "markdown",
      "source": [
        "###문제1"
      ],
      "metadata": {
        "id": "mD8PFfsxl7AG"
      }
    },
    {
      "cell_type": "code",
      "metadata": {
        "id": "98SxCWO57pmT"
      },
      "source": [],
      "execution_count": 5,
      "outputs": []
    },
    {
      "cell_type": "markdown",
      "source": [
        "###문제2"
      ],
      "metadata": {
        "id": "LWr629-Zl-vN"
      }
    },
    {
      "cell_type": "code",
      "metadata": {
        "id": "ODe_-l4Y7JO2"
      },
      "source": [],
      "execution_count": null,
      "outputs": []
    },
    {
      "cell_type": "markdown",
      "source": [
        "###문제3"
      ],
      "metadata": {
        "id": "3UAXRuDqmA4X"
      }
    },
    {
      "cell_type": "code",
      "metadata": {
        "id": "eIBe980O9jOU"
      },
      "source": [],
      "execution_count": null,
      "outputs": []
    },
    {
      "cell_type": "markdown",
      "source": [
        "###문제4"
      ],
      "metadata": {
        "id": "JyY4b1q2mC5A"
      }
    },
    {
      "cell_type": "code",
      "source": [
        "spot = ['을지로', '가로수길', '홍대', '대학로']\n",
        "\n"
      ],
      "metadata": {
        "id": "BuIQYnXnprGZ"
      },
      "execution_count": 1,
      "outputs": []
    },
    {
      "cell_type": "markdown",
      "source": [
        "###문제5"
      ],
      "metadata": {
        "id": "lBZsVkIDmEmi"
      }
    },
    {
      "cell_type": "code",
      "source": [
        "person = {100:'이순신', 200:'강감찬', 300:'김유신'}\n",
        "\n"
      ],
      "metadata": {
        "id": "dQLMTgWNqWwt"
      },
      "execution_count": 2,
      "outputs": []
    },
    {
      "cell_type": "code",
      "source": [],
      "metadata": {
        "id": "n1KnURBUquEZ"
      },
      "execution_count": 2,
      "outputs": []
    },
    {
      "cell_type": "code",
      "source": [],
      "metadata": {
        "id": "C-uL2Q4jquHa"
      },
      "execution_count": 2,
      "outputs": []
    },
    {
      "cell_type": "code",
      "source": [],
      "metadata": {
        "id": "skxnz1FfquKY"
      },
      "execution_count": 2,
      "outputs": []
    },
    {
      "cell_type": "code",
      "source": [],
      "metadata": {
        "id": "nNmVgM0aq68c"
      },
      "execution_count": 2,
      "outputs": []
    },
    {
      "cell_type": "markdown",
      "source": [
        "###문제6"
      ],
      "metadata": {
        "id": "4tanyRfKmG41"
      }
    },
    {
      "cell_type": "code",
      "source": [
        "addr={}\n",
        "\n",
        "addr['이순신']='010-1111-1234'\n",
        "addr['강감찬']='010-2222-1234'\n",
        "addr['김유신']='010-3333-1234'\n",
        "addr['안중근']='010-4444-1234'\n",
        "addr['유관순']='010-5555-1234'\n",
        "\n",
        "\n",
        "\n",
        "\n"
      ],
      "metadata": {
        "id": "6SzB8IUNrIfx"
      },
      "execution_count": 3,
      "outputs": []
    },
    {
      "cell_type": "markdown",
      "source": [
        "###문제7"
      ],
      "metadata": {
        "id": "0Vktvl4cn5YI"
      }
    },
    {
      "cell_type": "code",
      "source": [
        "clubA = {'김유신', '이순신', '강감찬'}\n",
        "clubB = {'이순신', '계백', '최영'}"
      ],
      "metadata": {
        "id": "53fTVEWZrWTA"
      },
      "execution_count": 4,
      "outputs": []
    },
    {
      "cell_type": "code",
      "source": [],
      "metadata": {
        "id": "dlhbpdJbrbWb"
      },
      "execution_count": 4,
      "outputs": []
    },
    {
      "cell_type": "code",
      "source": [],
      "metadata": {
        "id": "If6D-635rbZL"
      },
      "execution_count": 4,
      "outputs": []
    },
    {
      "cell_type": "code",
      "source": [],
      "metadata": {
        "id": "4d4kDr-prbeF"
      },
      "execution_count": 4,
      "outputs": []
    },
    {
      "cell_type": "code",
      "source": [],
      "metadata": {
        "id": "pgIu65mYrbhP"
      },
      "execution_count": 4,
      "outputs": []
    },
    {
      "cell_type": "code",
      "source": [],
      "metadata": {
        "id": "0vJI09rcsDZ3"
      },
      "execution_count": 4,
      "outputs": []
    },
    {
      "cell_type": "code",
      "source": [],
      "metadata": {
        "id": "hzyOZ3uUrmSH"
      },
      "execution_count": 4,
      "outputs": []
    },
    {
      "cell_type": "code",
      "source": [
        "food=['사과','바나나','초콜렛','디저트','멜론','샤인머스켓']\n",
        "\n"
      ],
      "metadata": {
        "id": "_Hn_ihm3uhwf"
      },
      "execution_count": 5,
      "outputs": []
    }
  ]
}