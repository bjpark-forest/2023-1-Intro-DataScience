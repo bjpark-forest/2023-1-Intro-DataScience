{
  "nbformat": 4,
  "nbformat_minor": 0,
  "metadata": {
    "colab": {
      "provenance": [],
      "toc_visible": true,
      "include_colab_link": true
    },
    "kernelspec": {
      "name": "python3",
      "display_name": "Python 3"
    },
    "language_info": {
      "name": "python"
    }
  },
  "cells": [
    {
      "cell_type": "markdown",
      "metadata": {
        "id": "view-in-github",
        "colab_type": "text"
      },
      "source": [
        "<a href=\"https://colab.research.google.com/github/bjpark-forest/2023-1-Intro-DataScience/blob/main/3%EC%A3%BC%EC%B0%A8_2023431213_%EB%B0%95%EB%B4%89%EC%A3%BC%EA%B3%BC%EC%A0%9C.ipynb\" target=\"_parent\"><img src=\"https://colab.research.google.com/assets/colab-badge.svg\" alt=\"Open In Colab\"/></a>"
      ]
    },
    {
      "cell_type": "markdown",
      "source": [
        "# 2장 파이썬 핵심 문법"
      ],
      "metadata": {
        "id": "-bMsU1vNGtLK"
      }
    },
    {
      "cell_type": "markdown",
      "source": [
        "## 2.10 파이썬 핵심 문법 연습 문제"
      ],
      "metadata": {
        "id": "OfGr2KcLHytW"
      }
    },
    {
      "cell_type": "markdown",
      "source": [
        "###문제1 사용자로부터 학교 이름, 본인 이름, 연락처를 변수에 저장하여 출력해보시오\n",
        "- 변수명: 학교이름(univ), 학과(dept), 이름(name), 연락처(phone)"
      ],
      "metadata": {
        "id": "mD8PFfsxl7AG"
      }
    },
    {
      "cell_type": "code",
      "metadata": {
        "colab": {
          "base_uri": "https://localhost:8080/"
        },
        "id": "98SxCWO57pmT",
        "outputId": "fde25803-5bdf-48fc-db7a-30dffc572d34"
      },
      "source": [
        "univ = \"한국대\"\n",
        "dept = \"컴공\"\n",
        "name = \"이순신\"\n",
        "phone = \"010-1234-5678\"\n",
        "\n",
        "print(f'학교: {univ}')\n",
        "print(f'학과: {dept}')\n",
        "print(f'이름: {name}')\n",
        "print(f'연락처: {phone}')\n"
      ],
      "execution_count": 4,
      "outputs": [
        {
          "output_type": "stream",
          "name": "stdout",
          "text": [
            "학교: 한국대\n",
            "학과: 컴공\n",
            "이름: 이순신\n",
            "연락처: 010-1234-5678\n"
          ]
        }
      ]
    },
    {
      "cell_type": "markdown",
      "source": [
        "###문제2. 카페 총 매출액과 순이익을 출력하는 프로그램을 작성하시오\n",
        "- 변수명: 아메리카노(ame), 카페라테(cafelatte), 카푸치노(cappuccino), 총매출(total)\n",
        "- 가격: ame=2000, cafelatte=3500, cappuccino=3500\n",
        "- 하루 판매 수량은 각각 20개, 15개, 15개이며 하루 재료비는 100,000원이다"
      ],
      "metadata": {
        "id": "LWr629-Zl-vN"
      }
    },
    {
      "cell_type": "code",
      "metadata": {
        "colab": {
          "base_uri": "https://localhost:8080/"
        },
        "id": "ODe_-l4Y7JO2",
        "outputId": "9f1c84ca-0b1f-4dd1-963e-5e317308560d"
      },
      "source": [
        "# 아메리카노, 카페라테, 카푸치노 가격을 각각 변수에 할당\n",
        "ame, cafelatte, cappuccino = 2000, 3500, 3500\n",
        "\n",
        "# 하루 판매 수량을 단위 가격에 곱하여 총 매출을 구함\n",
        "total = ame * 20 + cafelatte * 15 + cappuccino * 15\n",
        "\n",
        "# 총 매출에서 재료비를 빼서 순이익을 구함\n",
        "profit = total - 100000\n",
        "\n",
        "print(f'총매출: {total}')\n",
        "print(f'순이익: {profit}')\n",
        "\n"
      ],
      "execution_count": 9,
      "outputs": [
        {
          "output_type": "stream",
          "name": "stdout",
          "text": [
            "총매출: 145000\n",
            "순이익: 45000\n"
          ]
        }
      ]
    },
    {
      "cell_type": "markdown",
      "source": [
        "###문제3. 이름과 출생년도를 입력받아 한국 나이를 출력하는 프로그램을 작성하시시오"
      ],
      "metadata": {
        "id": "3UAXRuDqmA4X"
      }
    },
    {
      "cell_type": "code",
      "metadata": {
        "colab": {
          "base_uri": "https://localhost:8080/"
        },
        "id": "eIBe980O9jOU",
        "outputId": "36693def-03c9-43ca-a8ce-9b8a3eec21f1"
      },
      "source": [
        "name = input(\"이름 입력: \")\n",
        "birth_year = int(input(\"출생년도 입력: \"))\n",
        "\n",
        "kor_year = 2023 - birth_year + 1\n",
        "\n",
        "print(f'{name}님의 한국 나이는 {kor_year}살')\n",
        "\n"
      ],
      "execution_count": 13,
      "outputs": [
        {
          "output_type": "stream",
          "name": "stdout",
          "text": [
            "이름 입력: 이순신\n",
            "출생년도 입력: 2002\n",
            "이순신님의 한국 나이는 22살\n"
          ]
        }
      ]
    },
    {
      "cell_type": "markdown",
      "source": [
        "###문제4 다음의 파이썬 코드 실행 결과가 나오도록 밑줄을 채우시오"
      ],
      "metadata": {
        "id": "JyY4b1q2mC5A"
      }
    },
    {
      "cell_type": "code",
      "source": [
        "spot = ['을지로', '가로수길', '홍대', '대학로']\n",
        "select = spot[2:]\n",
        "print(select)\n"
      ],
      "metadata": {
        "colab": {
          "base_uri": "https://localhost:8080/"
        },
        "id": "BuIQYnXnprGZ",
        "outputId": "7f1892f1-e4eb-4d87-8313-5840b2015aee"
      },
      "execution_count": 14,
      "outputs": [
        {
          "output_type": "stream",
          "name": "stdout",
          "text": [
            "['홍대', '대학로']\n"
          ]
        }
      ]
    },
    {
      "cell_type": "markdown",
      "source": [
        "###문제5. 다음과 같은 실행 결과가 나오도록 밑줄에 알맞은 함수를 작성하시오\n"
      ],
      "metadata": {
        "id": "lBZsVkIDmEmi"
      }
    },
    {
      "cell_type": "code",
      "source": [
        "person = {100:'이순신', 200:'강감찬', 300:'김유신'}\n",
        "list(person.keys())\n"
      ],
      "metadata": {
        "colab": {
          "base_uri": "https://localhost:8080/"
        },
        "id": "dQLMTgWNqWwt",
        "outputId": "7354db6b-bba7-4281-953f-374f9d9bc3e5"
      },
      "execution_count": 15,
      "outputs": [
        {
          "output_type": "execute_result",
          "data": {
            "text/plain": [
              "[100, 200, 300]"
            ]
          },
          "metadata": {},
          "execution_count": 15
        }
      ]
    },
    {
      "cell_type": "code",
      "source": [
        "list(person.values())"
      ],
      "metadata": {
        "colab": {
          "base_uri": "https://localhost:8080/"
        },
        "id": "n1KnURBUquEZ",
        "outputId": "c7449265-3d10-4841-d027-3feec332febf"
      },
      "execution_count": 16,
      "outputs": [
        {
          "output_type": "execute_result",
          "data": {
            "text/plain": [
              "['이순신', '강감찬', '김유신']"
            ]
          },
          "metadata": {},
          "execution_count": 16
        }
      ]
    },
    {
      "cell_type": "code",
      "source": [
        "list(person.items())"
      ],
      "metadata": {
        "colab": {
          "base_uri": "https://localhost:8080/"
        },
        "id": "C-uL2Q4jquHa",
        "outputId": "7d155407-719f-4bff-b265-a5cb8f723f72"
      },
      "execution_count": 17,
      "outputs": [
        {
          "output_type": "execute_result",
          "data": {
            "text/plain": [
              "[(100, '이순신'), (200, '강감찬'), (300, '김유신')]"
            ]
          },
          "metadata": {},
          "execution_count": 17
        }
      ]
    },
    {
      "cell_type": "code",
      "source": [
        "person.get(200)"
      ],
      "metadata": {
        "colab": {
          "base_uri": "https://localhost:8080/",
          "height": 36
        },
        "id": "skxnz1FfquKY",
        "outputId": "dea1b620-8575-440e-95c0-3941fa96ed8b"
      },
      "execution_count": 18,
      "outputs": [
        {
          "output_type": "execute_result",
          "data": {
            "text/plain": [
              "'강감찬'"
            ],
            "application/vnd.google.colaboratory.intrinsic+json": {
              "type": "string"
            }
          },
          "metadata": {},
          "execution_count": 18
        }
      ]
    },
    {
      "cell_type": "code",
      "source": [
        "del(person[100])\n",
        "print(person)"
      ],
      "metadata": {
        "colab": {
          "base_uri": "https://localhost:8080/"
        },
        "id": "nNmVgM0aq68c",
        "outputId": "778db40a-8e23-4892-e06c-b9b82ffa72f0"
      },
      "execution_count": 20,
      "outputs": [
        {
          "output_type": "stream",
          "name": "stdout",
          "text": [
            "{200: '강감찬', 300: '김유신'}\n"
          ]
        }
      ]
    },
    {
      "cell_type": "markdown",
      "source": [
        "###문제6.다음은 채팅 앱에 친구를 등록하고 이름으로 검색한 후 연락처를 출력하는 프로그램이다. 다음 실행결과와 같이 출력되도록 빈칸에 알맞은 코드를 완성하시오"
      ],
      "metadata": {
        "id": "4tanyRfKmG41"
      }
    },
    {
      "cell_type": "code",
      "source": [
        "addr={}\n",
        "\n",
        "addr['이순신']='010-1111-1234'\n",
        "addr['강감찬']='010-2222-1234'\n",
        "addr['김유신']='010-3333-1234'\n",
        "addr['안중근']='010-4444-1234'\n",
        "addr['유관순']='010-5555-1234'\n",
        "\n",
        "names = list(addr.keys())\n",
        "print(names)\n",
        "\n",
        "search_name = input(\"찾는 이름: \")\n",
        "if addr.get(search_name):\n",
        "  print(addr.get(search_name))\n",
        "else:\n",
        "  print(\"없는 이름\")\n"
      ],
      "metadata": {
        "colab": {
          "base_uri": "https://localhost:8080/"
        },
        "id": "6SzB8IUNrIfx",
        "outputId": "53492d8e-fb21-4ad8-a8c5-3fe3dadc0af3"
      },
      "execution_count": 26,
      "outputs": [
        {
          "output_type": "stream",
          "name": "stdout",
          "text": [
            "['이순신', '강감찬', '김유신', '안중근', '유관순']\n",
            "찾는 이름: 김유신\n",
            "010-3333-1234\n"
          ]
        }
      ]
    },
    {
      "cell_type": "markdown",
      "source": [
        "###문제7. 다음과 같이 동아리 A, B에 학생들이 가입되어 있다. 실행 결과를 참고하여 문제를 해결하시오\n",
        "\n",
        "\n",
        "\n"
      ],
      "metadata": {
        "id": "0Vktvl4cn5YI"
      }
    },
    {
      "cell_type": "code",
      "source": [
        "clubA = {'김유신', '이순신', '강감찬'}\n",
        "clubB = {'이순신', '계백', '최영'}"
      ],
      "metadata": {
        "id": "53fTVEWZrWTA"
      },
      "execution_count": 33,
      "outputs": []
    },
    {
      "cell_type": "code",
      "source": [
        "# set 자료 구조를 사용한다.\n",
        "print(clubA.union(clubB))"
      ],
      "metadata": {
        "colab": {
          "base_uri": "https://localhost:8080/"
        },
        "id": "dlhbpdJbrbWb",
        "outputId": "f4a2a474-300b-4a38-ca99-00cb5646199d"
      },
      "execution_count": 34,
      "outputs": [
        {
          "output_type": "stream",
          "name": "stdout",
          "text": [
            "{'강감찬', '이순신', '계백', '최영', '김유신'}\n"
          ]
        }
      ]
    },
    {
      "cell_type": "code",
      "source": [
        "print(clubA.intersection(clubB))"
      ],
      "metadata": {
        "colab": {
          "base_uri": "https://localhost:8080/"
        },
        "id": "If6D-635rbZL",
        "outputId": "b9735232-4a10-47f1-e850-c28d0b98bb55"
      },
      "execution_count": 35,
      "outputs": [
        {
          "output_type": "stream",
          "name": "stdout",
          "text": [
            "{'이순신'}\n"
          ]
        }
      ]
    },
    {
      "cell_type": "code",
      "source": [
        "print(clubA.difference(clubA.intersection(clubB)))"
      ],
      "metadata": {
        "colab": {
          "base_uri": "https://localhost:8080/"
        },
        "id": "4d4kDr-prbeF",
        "outputId": "4bffa8ba-ece3-4396-cfaa-34895aeee62d"
      },
      "execution_count": 36,
      "outputs": [
        {
          "output_type": "stream",
          "name": "stdout",
          "text": [
            "{'김유신', '강감찬'}\n"
          ]
        }
      ]
    },
    {
      "cell_type": "code",
      "source": [
        "clubA.add('이황')\n",
        "print(clubA)"
      ],
      "metadata": {
        "colab": {
          "base_uri": "https://localhost:8080/"
        },
        "id": "pgIu65mYrbhP",
        "outputId": "68b80432-5361-4a5d-8472-0166718eadab"
      },
      "execution_count": 38,
      "outputs": [
        {
          "output_type": "stream",
          "name": "stdout",
          "text": [
            "{'이황', '김유신', '이순신', '강감찬'}\n"
          ]
        }
      ]
    },
    {
      "cell_type": "code",
      "source": [
        "clubB.remove('계백')\n",
        "print(clubB)"
      ],
      "metadata": {
        "colab": {
          "base_uri": "https://localhost:8080/"
        },
        "id": "0vJI09rcsDZ3",
        "outputId": "002ae0de-7705-4c9b-c98a-efb094867a26"
      },
      "execution_count": 39,
      "outputs": [
        {
          "output_type": "stream",
          "name": "stdout",
          "text": [
            "{'최영', '이순신'}\n"
          ]
        }
      ]
    },
    {
      "cell_type": "code",
      "source": [
        "print(f\"A 동아리: {clubA}\")\n",
        "print(f\"B 동아리: {clubB}\")"
      ],
      "metadata": {
        "colab": {
          "base_uri": "https://localhost:8080/"
        },
        "id": "hzyOZ3uUrmSH",
        "outputId": "aab3e349-02bf-4d02-f463-0ee48155ac56"
      },
      "execution_count": 41,
      "outputs": [
        {
          "output_type": "stream",
          "name": "stdout",
          "text": [
            "A 동아리: {'이황', '김유신', '이순신', '강감찬'}\n",
            "B 동아리: {'최영', '이순신'}\n"
          ]
        }
      ]
    },
    {
      "cell_type": "markdown",
      "source": [
        "### 다음 밑줄에 알맞은 파이썬 코드를 작성하시오\n",
        "- 문자열 길이가 3인 문자열들만 리스트 형태로 출력되도록 리스트 내포를 사용할 것"
      ],
      "metadata": {
        "id": "CzYbwQoVpeT-"
      }
    },
    {
      "cell_type": "code",
      "source": [
        "\n",
        "food=['사과','바나나','초콜렛','디저트','멜론','샤인머스켓']\n",
        "\n",
        "three_letters = [x for x in food if len(x) == 3]\n",
        "print(three_letters)\n",
        "\n",
        "\n",
        "\n",
        "\n"
      ],
      "metadata": {
        "colab": {
          "base_uri": "https://localhost:8080/"
        },
        "id": "_Hn_ihm3uhwf",
        "outputId": "e4f63a59-59e8-4fa0-b9ca-9e2466979e9f"
      },
      "execution_count": 42,
      "outputs": [
        {
          "output_type": "stream",
          "name": "stdout",
          "text": [
            "['바나나', '초콜렛', '디저트']\n"
          ]
        }
      ]
    },
    {
      "cell_type": "code",
      "source": [],
      "metadata": {
        "id": "nR2mBJ3qp1Cn"
      },
      "execution_count": null,
      "outputs": []
    }
  ]
}