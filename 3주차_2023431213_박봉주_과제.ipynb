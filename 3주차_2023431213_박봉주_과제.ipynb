{
  "nbformat": 4,
  "nbformat_minor": 0,
  "metadata": {
    "colab": {
      "provenance": [],
      "toc_visible": true,
      "include_colab_link": true
    },
    "kernelspec": {
      "name": "python3",
      "display_name": "Python 3"
    },
    "language_info": {
      "name": "python"
    }
  },
  "cells": [
    {
      "cell_type": "markdown",
      "metadata": {
        "id": "view-in-github",
        "colab_type": "text"
      },
      "source": [
        "<a href=\"https://colab.research.google.com/github/bjpark-forest/2023-1-Intro-DataScience/blob/main/3%EC%A3%BC%EC%B0%A8_2023431213_%EB%B0%95%EB%B4%89%EC%A3%BC_%EA%B3%BC%EC%A0%9C.ipynb\" target=\"_parent\"><img src=\"https://colab.research.google.com/assets/colab-badge.svg\" alt=\"Open In Colab\"/></a>"
      ]
    },
    {
      "cell_type": "markdown",
      "source": [
        "# 2장 파이썬 핵심 문법"
      ],
      "metadata": {
        "id": "-bMsU1vNGtLK"
      }
    },
    {
      "cell_type": "markdown",
      "source": [
        "## 2.10 파이썬 핵심 문법 연습 문제"
      ],
      "metadata": {
        "id": "OfGr2KcLHytW"
      }
    },
    {
      "cell_type": "markdown",
      "source": [
        "###문제1"
      ],
      "metadata": {
        "id": "mD8PFfsxl7AG"
      }
    },
    {
      "cell_type": "code",
      "metadata": {
        "colab": {
          "base_uri": "https://localhost:8080/"
        },
        "id": "98SxCWO57pmT",
        "outputId": "562768c7-7e26-444c-e07a-6b773a25034c"
      },
      "source": [],
      "execution_count": null,
      "outputs": [
        {
          "output_type": "stream",
          "name": "stdout",
          "text": [
            "학교: 한국대\n",
            "학과: 컴공\n",
            "이름: 이순신\n",
            "연락처: 010-1234-5678\n"
          ]
        }
      ]
    },
    {
      "cell_type": "markdown",
      "source": [
        "###문제2"
      ],
      "metadata": {
        "id": "LWr629-Zl-vN"
      }
    },
    {
      "cell_type": "code",
      "metadata": {
        "colab": {
          "base_uri": "https://localhost:8080/"
        },
        "id": "ODe_-l4Y7JO2",
        "outputId": "ef091e20-bc31-442e-e0f2-5220d5f529fb"
      },
      "source": [],
      "execution_count": null,
      "outputs": [
        {
          "output_type": "stream",
          "name": "stdout",
          "text": [
            "총매출 :  145000\n",
            "순이익 :  45000\n"
          ]
        }
      ]
    },
    {
      "cell_type": "markdown",
      "source": [
        "###문제3"
      ],
      "metadata": {
        "id": "3UAXRuDqmA4X"
      }
    },
    {
      "cell_type": "code",
      "metadata": {
        "colab": {
          "base_uri": "https://localhost:8080/"
        },
        "id": "eIBe980O9jOU",
        "outputId": "a02a4162-e759-4fbd-8a4c-b8f71d95b749"
      },
      "source": [],
      "execution_count": null,
      "outputs": [
        {
          "output_type": "stream",
          "name": "stdout",
          "text": [
            "이름 입력: 이순신\n",
            "출생년도 입력: 2002\n",
            "이순신님의 한국 나이는 18살\n"
          ]
        }
      ]
    },
    {
      "cell_type": "markdown",
      "source": [
        "###문제4"
      ],
      "metadata": {
        "id": "JyY4b1q2mC5A"
      }
    },
    {
      "cell_type": "code",
      "source": [
        "spot = ['을지로', '가로수길', '홍대', '대학로']\n",
        "\n"
      ],
      "metadata": {
        "colab": {
          "base_uri": "https://localhost:8080/"
        },
        "id": "BuIQYnXnprGZ",
        "outputId": "b0d0f83e-1a31-40fc-a3a3-73fc63e513b3"
      },
      "execution_count": null,
      "outputs": [
        {
          "output_type": "stream",
          "name": "stdout",
          "text": [
            "['홍대', '대학로']\n"
          ]
        }
      ]
    },
    {
      "cell_type": "markdown",
      "source": [
        "###문제5"
      ],
      "metadata": {
        "id": "lBZsVkIDmEmi"
      }
    },
    {
      "cell_type": "code",
      "source": [
        "person = {100:'이순신', 200:'강감찬', 300:'김유신'}\n",
        "\n"
      ],
      "metadata": {
        "colab": {
          "base_uri": "https://localhost:8080/"
        },
        "id": "dQLMTgWNqWwt",
        "outputId": "12739008-6dfa-4081-c775-4200e5c4aac6"
      },
      "execution_count": null,
      "outputs": [
        {
          "output_type": "execute_result",
          "data": {
            "text/plain": [
              "[100, 200, 300]"
            ]
          },
          "metadata": {},
          "execution_count": 14
        }
      ]
    },
    {
      "cell_type": "code",
      "source": [],
      "metadata": {
        "colab": {
          "base_uri": "https://localhost:8080/"
        },
        "id": "n1KnURBUquEZ",
        "outputId": "5ceb1d88-c236-46b5-fd80-0ef97054b7ca"
      },
      "execution_count": null,
      "outputs": [
        {
          "output_type": "execute_result",
          "data": {
            "text/plain": [
              "['이순신', '강감찬', '김유신']"
            ]
          },
          "metadata": {},
          "execution_count": 15
        }
      ]
    },
    {
      "cell_type": "code",
      "source": [],
      "metadata": {
        "colab": {
          "base_uri": "https://localhost:8080/"
        },
        "id": "C-uL2Q4jquHa",
        "outputId": "d3511a5b-f2ed-4b91-9dd3-ea6f6343f638"
      },
      "execution_count": null,
      "outputs": [
        {
          "output_type": "execute_result",
          "data": {
            "text/plain": [
              "[(100, '이순신'), (200, '강감찬'), (300, '김유신')]"
            ]
          },
          "metadata": {},
          "execution_count": 16
        }
      ]
    },
    {
      "cell_type": "code",
      "source": [],
      "metadata": {
        "colab": {
          "base_uri": "https://localhost:8080/",
          "height": 35
        },
        "id": "skxnz1FfquKY",
        "outputId": "2a146aa8-d6cf-41b9-b8c3-bfdebb231618"
      },
      "execution_count": null,
      "outputs": [
        {
          "output_type": "execute_result",
          "data": {
            "text/plain": [
              "'강감찬'"
            ],
            "application/vnd.google.colaboratory.intrinsic+json": {
              "type": "string"
            }
          },
          "metadata": {},
          "execution_count": 17
        }
      ]
    },
    {
      "cell_type": "code",
      "source": [],
      "metadata": {
        "colab": {
          "base_uri": "https://localhost:8080/"
        },
        "id": "nNmVgM0aq68c",
        "outputId": "07578651-52fa-472a-ca8c-9771c96dc11b"
      },
      "execution_count": null,
      "outputs": [
        {
          "output_type": "execute_result",
          "data": {
            "text/plain": [
              "{200: '강감찬', 300: '김유신'}"
            ]
          },
          "metadata": {},
          "execution_count": 18
        }
      ]
    },
    {
      "cell_type": "markdown",
      "source": [
        "###문제6"
      ],
      "metadata": {
        "id": "4tanyRfKmG41"
      }
    },
    {
      "cell_type": "code",
      "source": [
        "addr={}\n",
        "\n",
        "addr['이순신']='010-1111-1234'\n",
        "addr['강감찬']='010-2222-1234'\n",
        "addr['김유신']='010-3333-1234'\n",
        "addr['안중근']='010-4444-1234'\n",
        "addr['유관순']='010-5555-1234'\n",
        "\n",
        "\n",
        "\n",
        "\n"
      ],
      "metadata": {
        "colab": {
          "base_uri": "https://localhost:8080/"
        },
        "id": "6SzB8IUNrIfx",
        "outputId": "d412e942-fe5c-4471-9108-d58e38c66a9e"
      },
      "execution_count": null,
      "outputs": [
        {
          "output_type": "stream",
          "name": "stdout",
          "text": [
            "['이순신', '강감찬', '김유신', '안중근', '유관순']\n",
            "\n",
            "찾는 이름 : 김유신\n",
            "010-3333-1234\n"
          ]
        }
      ]
    },
    {
      "cell_type": "markdown",
      "source": [
        "###문제7"
      ],
      "metadata": {
        "id": "0Vktvl4cn5YI"
      }
    },
    {
      "cell_type": "code",
      "source": [
        "clubA = {'김유신', '이순신', '강감찬'}\n",
        "clubB = {'이순신', '계백', '최영'}"
      ],
      "metadata": {
        "id": "53fTVEWZrWTA"
      },
      "execution_count": null,
      "outputs": []
    },
    {
      "cell_type": "code",
      "source": [],
      "metadata": {
        "colab": {
          "base_uri": "https://localhost:8080/"
        },
        "id": "dlhbpdJbrbWb",
        "outputId": "5a843e8c-71b2-4702-b494-04444aee90d0"
      },
      "execution_count": null,
      "outputs": [
        {
          "output_type": "stream",
          "name": "stdout",
          "text": [
            "{'강감찬', '최영', '김유신', '계백', '이순신'}\n"
          ]
        }
      ]
    },
    {
      "cell_type": "code",
      "source": [],
      "metadata": {
        "colab": {
          "base_uri": "https://localhost:8080/"
        },
        "id": "If6D-635rbZL",
        "outputId": "4d2a3942-d171-48b2-924a-b926d843118c"
      },
      "execution_count": null,
      "outputs": [
        {
          "output_type": "stream",
          "name": "stdout",
          "text": [
            "{'이순신'}\n"
          ]
        }
      ]
    },
    {
      "cell_type": "code",
      "source": [],
      "metadata": {
        "colab": {
          "base_uri": "https://localhost:8080/"
        },
        "id": "4d4kDr-prbeF",
        "outputId": "e3b04bcb-105f-4b96-fd92-6bc34f6e4ba6"
      },
      "execution_count": null,
      "outputs": [
        {
          "output_type": "stream",
          "name": "stdout",
          "text": [
            "{'강감찬', '김유신'}\n"
          ]
        }
      ]
    },
    {
      "cell_type": "code",
      "source": [],
      "metadata": {
        "colab": {
          "base_uri": "https://localhost:8080/"
        },
        "id": "pgIu65mYrbhP",
        "outputId": "52e3fef4-ae2a-4373-dd28-327cc9273380"
      },
      "execution_count": null,
      "outputs": [
        {
          "output_type": "stream",
          "name": "stdout",
          "text": [
            "{'계백', '최영'}\n"
          ]
        }
      ]
    },
    {
      "cell_type": "code",
      "source": [],
      "metadata": {
        "colab": {
          "base_uri": "https://localhost:8080/"
        },
        "id": "0vJI09rcsDZ3",
        "outputId": "ef4a8392-faa8-46c3-ef82-c95a05bc6914"
      },
      "execution_count": null,
      "outputs": [
        {
          "output_type": "execute_result",
          "data": {
            "text/plain": [
              "{'강감찬', '김유신', '이순신', '이황'}"
            ]
          },
          "metadata": {},
          "execution_count": 37
        }
      ]
    },
    {
      "cell_type": "code",
      "source": [],
      "metadata": {
        "colab": {
          "base_uri": "https://localhost:8080/"
        },
        "id": "hzyOZ3uUrmSH",
        "outputId": "9d3929c6-204c-4e2d-b0c7-ca92669332c1"
      },
      "execution_count": null,
      "outputs": [
        {
          "output_type": "execute_result",
          "data": {
            "text/plain": [
              "{'이순신', '최영'}"
            ]
          },
          "metadata": {},
          "execution_count": 38
        }
      ]
    },
    {
      "cell_type": "code",
      "source": [
        "food=['사과','바나나','초콜렛','디저트','멜론','샤인머스켓']\n",
        "\n"
      ],
      "metadata": {
        "colab": {
          "base_uri": "https://localhost:8080/"
        },
        "id": "_Hn_ihm3uhwf",
        "outputId": "bfea73a3-ed8e-46ea-ab00-37f2d6934fc4"
      },
      "execution_count": null,
      "outputs": [
        {
          "output_type": "stream",
          "name": "stdout",
          "text": [
            "['바나나', '초콜렛', '디저트']\n"
          ]
        }
      ]
    }
  ]
}