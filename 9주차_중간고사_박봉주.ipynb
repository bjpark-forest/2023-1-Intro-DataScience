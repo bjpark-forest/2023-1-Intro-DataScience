{
  "nbformat": 4,
  "nbformat_minor": 0,
  "metadata": {
    "colab": {
      "provenance": [],
      "toc_visible": true,
      "include_colab_link": true
    },
    "kernelspec": {
      "name": "python3",
      "display_name": "Python 3"
    },
    "language_info": {
      "name": "python"
    }
  },
  "cells": [
    {
      "cell_type": "markdown",
      "metadata": {
        "id": "view-in-github",
        "colab_type": "text"
      },
      "source": [
        "<a href=\"https://colab.research.google.com/github/bjpark-forest/2023-1-Intro-DataScience/blob/main/9%EC%A3%BC%EC%B0%A8_%EC%A4%91%EA%B0%84%EA%B3%A0%EC%82%AC_%EB%B0%95%EB%B4%89%EC%A3%BC.ipynb\" target=\"_parent\"><img src=\"https://colab.research.google.com/assets/colab-badge.svg\" alt=\"Open In Colab\"/></a>"
      ]
    },
    {
      "cell_type": "markdown",
      "source": [
        "# <중간점검 수행 조건>\n",
        "- 중간점검에 필요한 엑셀 파일은 LMS에서 다운로드 할 것\n",
        "- 코랩 문제의 실행결과와 같이 출력되도록 완성하되, 제시된 조건과 다른 방법으로 작성하였을 경우 이에 대한 사항을 최대한 주석으로 설명할 것\n",
        "- 동일한 조건으로 진행되므로 문제에 대해서는 질문없이 진행하되, 문제에 이상이 있다고 판단될 경우 점검 종료 후 연락할 것\n",
        "- 점검 수행 결과물의 코랩 URL 주소 제출 (공유 미허용으로 내용을 확인할 수 없다면 0점 처리)"
      ],
      "metadata": {
        "id": "Y-Wj5MwvMDV5"
      }
    },
    {
      "cell_type": "markdown",
      "source": [
        "##문제1\n",
        "- 반복문, 컬렉션자료형, 사용자정의함수를 활용하여 프로그램을 완성하시오."
      ],
      "metadata": {
        "id": "e1xF3tdfaTD8"
      }
    },
    {
      "cell_type": "markdown",
      "source": [
        "####문제1-1\n",
        "- 출생연도를 입력하면 해당하는 띠를 출력하는 사용자정의함수 작성"
      ],
      "metadata": {
        "id": "qLHt_PwEzaaJ"
      }
    },
    {
      "cell_type": "code",
      "source": [
        "def zodiac_func():\n",
        "    pass # pass 삭제한 후 이 부분에 코드 작성"
      ],
      "metadata": {
        "id": "TEL0E-kXVIYN"
      },
      "execution_count": null,
      "outputs": []
    },
    {
      "cell_type": "markdown",
      "source": [
        "####문제1-2\n",
        "- 동물을 입력하면 12지 동물인지 확인 후 출력하는 사용자정의함수 작성"
      ],
      "metadata": {
        "id": "Fa5lvMXqz-SZ"
      }
    },
    {
      "cell_type": "code",
      "source": [
        "def jiji_func():\n",
        "    pass # pass 삭제한 후 이 부분에 코드 작성"
      ],
      "metadata": {
        "id": "OstbssO_5vah"
      },
      "execution_count": null,
      "outputs": []
    },
    {
      "cell_type": "markdown",
      "source": [
        "####문제1-3\n",
        "- 12마리 동물을 키(key)로, 12지를 값(value)으로 구성되어 있는 딕셔너리 생성\n",
        "- 메인 코드의 While Ture 안에 메뉴 번호 1을 입력하면 띠를 확인하는 zodiac_func() 함수를 호출하고, 2를 입력하면 12지 동물을 확인하는 jiji_func() 함수를 호출"
      ],
      "metadata": {
        "id": "p1ae5d4_0N9r"
      }
    },
    {
      "cell_type": "code",
      "source": [
        "animals = ['쥐','소','호랑이','토끼','용','뱀','말','양','원숭이','닭','개','돼지']\n",
        "jiji = ['자(子)','축(丑)','인(寅)','묘(卯)','진(辰)','사(巳)','오(午)','미(未)','신(申)','유(酉)','술(戌)','해(亥)']\n",
        "\n",
        "twleve_jiji = {}\n",
        "\n",
        "for x in range(12):\n",
        "    pass # pass 삭제한 후 이 부분에 코드 작성\n",
        "\n",
        "print('생성된 12지 딕셔너리')\n",
        "print(f'⇒ {twleve_jiji}')\n",
        "\n",
        "while True:\n",
        "    pass # pass 삭제한 후 이 부분에 코드 작성\n",
        "    \n",
        "print('프로그램 종료')"
      ],
      "metadata": {
        "id": "6ZJMhPpVUH4P",
        "colab": {
          "base_uri": "https://localhost:8080/"
        },
        "outputId": "e104bb0f-5da1-4471-d90e-47eb149131f2"
      },
      "execution_count": null,
      "outputs": [
        {
          "output_type": "stream",
          "name": "stdout",
          "text": [
            "생성된 12지 딕셔너리\n",
            "⇒ {'쥐': '자(子)', '소': '축(丑)', '호랑이': '인(寅)', '토끼': '묘(卯)', '용': '진(辰)', '뱀': '사(巳)', '말': '오(午)', '양': '미(未)', '원숭이': '신(申)', '닭': '유(酉)', '개': '술(戌)', '돼지': '해(亥)'}\n",
            "\n",
            "번호 입력(1: 띠 확인  2: 12지 확인  0: 종료) 1\n",
            "\n",
            "출생연도를 입력하면 띠를 확인합니다.\n",
            "출생연도 입력: 2002\n",
            "2002년생은 말띠\n",
            "\n",
            "번호 입력(1: 띠 확인  2: 12지 확인  0: 종료) 2\n",
            "\n",
            "입력한 동물이 12지 동물인지 확인합니다.\n",
            "동물 입력: 말\n",
            "말의 12지는 오(午)입니다.\n",
            "\n",
            "번호 입력(1: 띠 확인  2: 12지 확인  0: 종료) 0\n",
            "\n",
            "프로그램 종료\n"
          ]
        }
      ]
    },
    {
      "cell_type": "markdown",
      "source": [
        "##문제2\n",
        "- 파일 입·출력, 판다스를 활용하여 프로그램을 완성하시오."
      ],
      "metadata": {
        "id": "8j7Hy8aoWb6r"
      }
    },
    {
      "cell_type": "markdown",
      "source": [
        "####문제2-1\n",
        "- 엑셀 파일을 읽어와 데이터프레임으로 저장하기"
      ],
      "metadata": {
        "id": "6MBRu9TU2pUW"
      }
    },
    {
      "cell_type": "code",
      "source": [
        "import pandas as pd\n",
        "import re"
      ],
      "metadata": {
        "id": "Gc8AB8EeTVxA"
      },
      "execution_count": null,
      "outputs": []
    },
    {
      "cell_type": "code",
      "source": [
        "# 'people.xlsx' 파일 읽어오기\n",
        "\n",
        "people"
      ],
      "metadata": {
        "colab": {
          "base_uri": "https://localhost:8080/",
          "height": 363
        },
        "id": "Sa0xTCzKX4LB",
        "outputId": "39441d70-bc2c-4ce4-95ab-d81bb7fdc403"
      },
      "execution_count": null,
      "outputs": [
        {
          "output_type": "execute_result",
          "data": {
            "text/plain": [
              "         성명  근무년수      기본급  상여비율  수당  총 지급액       거주지\n",
              "0  LeeYoung    15  2600000  0.15 NaN    NaN     Seoul\n",
              "1    KimYou     9  2300000  0.10 NaN    NaN  Gyeonggi\n",
              "2    KamWoo    10  2000000  0.12 NaN    NaN     Seoul\n",
              "3   ParkJin     8  2200000  0.10 NaN    NaN     Seoul\n",
              "4   ParkWoo     4  1300000  0.07 NaN    NaN  Gyeonggi\n",
              "5   JungYou     5  1700000  0.09 NaN    NaN  Gyeonggi\n",
              "6    LeeMoo     7  2000000  0.09 NaN    NaN     Seoul\n",
              "7   NaYoung    12  2450000  0.14 NaN    NaN  Gyeonggi\n",
              "8   ChoiTae     5  1700000  0.09 NaN    NaN  Gyeonggi\n",
              "9     AhnMi     3  1200000  0.05 NaN    NaN     Seoul"
            ],
            "text/html": [
              "\n",
              "  <div id=\"df-8dc6a3d6-7e7b-4b8d-8766-2610492ec2f0\">\n",
              "    <div class=\"colab-df-container\">\n",
              "      <div>\n",
              "<style scoped>\n",
              "    .dataframe tbody tr th:only-of-type {\n",
              "        vertical-align: middle;\n",
              "    }\n",
              "\n",
              "    .dataframe tbody tr th {\n",
              "        vertical-align: top;\n",
              "    }\n",
              "\n",
              "    .dataframe thead th {\n",
              "        text-align: right;\n",
              "    }\n",
              "</style>\n",
              "<table border=\"1\" class=\"dataframe\">\n",
              "  <thead>\n",
              "    <tr style=\"text-align: right;\">\n",
              "      <th></th>\n",
              "      <th>성명</th>\n",
              "      <th>근무년수</th>\n",
              "      <th>기본급</th>\n",
              "      <th>상여비율</th>\n",
              "      <th>수당</th>\n",
              "      <th>총 지급액</th>\n",
              "      <th>거주지</th>\n",
              "    </tr>\n",
              "  </thead>\n",
              "  <tbody>\n",
              "    <tr>\n",
              "      <th>0</th>\n",
              "      <td>LeeYoung</td>\n",
              "      <td>15</td>\n",
              "      <td>2600000</td>\n",
              "      <td>0.15</td>\n",
              "      <td>NaN</td>\n",
              "      <td>NaN</td>\n",
              "      <td>Seoul</td>\n",
              "    </tr>\n",
              "    <tr>\n",
              "      <th>1</th>\n",
              "      <td>KimYou</td>\n",
              "      <td>9</td>\n",
              "      <td>2300000</td>\n",
              "      <td>0.10</td>\n",
              "      <td>NaN</td>\n",
              "      <td>NaN</td>\n",
              "      <td>Gyeonggi</td>\n",
              "    </tr>\n",
              "    <tr>\n",
              "      <th>2</th>\n",
              "      <td>KamWoo</td>\n",
              "      <td>10</td>\n",
              "      <td>2000000</td>\n",
              "      <td>0.12</td>\n",
              "      <td>NaN</td>\n",
              "      <td>NaN</td>\n",
              "      <td>Seoul</td>\n",
              "    </tr>\n",
              "    <tr>\n",
              "      <th>3</th>\n",
              "      <td>ParkJin</td>\n",
              "      <td>8</td>\n",
              "      <td>2200000</td>\n",
              "      <td>0.10</td>\n",
              "      <td>NaN</td>\n",
              "      <td>NaN</td>\n",
              "      <td>Seoul</td>\n",
              "    </tr>\n",
              "    <tr>\n",
              "      <th>4</th>\n",
              "      <td>ParkWoo</td>\n",
              "      <td>4</td>\n",
              "      <td>1300000</td>\n",
              "      <td>0.07</td>\n",
              "      <td>NaN</td>\n",
              "      <td>NaN</td>\n",
              "      <td>Gyeonggi</td>\n",
              "    </tr>\n",
              "    <tr>\n",
              "      <th>5</th>\n",
              "      <td>JungYou</td>\n",
              "      <td>5</td>\n",
              "      <td>1700000</td>\n",
              "      <td>0.09</td>\n",
              "      <td>NaN</td>\n",
              "      <td>NaN</td>\n",
              "      <td>Gyeonggi</td>\n",
              "    </tr>\n",
              "    <tr>\n",
              "      <th>6</th>\n",
              "      <td>LeeMoo</td>\n",
              "      <td>7</td>\n",
              "      <td>2000000</td>\n",
              "      <td>0.09</td>\n",
              "      <td>NaN</td>\n",
              "      <td>NaN</td>\n",
              "      <td>Seoul</td>\n",
              "    </tr>\n",
              "    <tr>\n",
              "      <th>7</th>\n",
              "      <td>NaYoung</td>\n",
              "      <td>12</td>\n",
              "      <td>2450000</td>\n",
              "      <td>0.14</td>\n",
              "      <td>NaN</td>\n",
              "      <td>NaN</td>\n",
              "      <td>Gyeonggi</td>\n",
              "    </tr>\n",
              "    <tr>\n",
              "      <th>8</th>\n",
              "      <td>ChoiTae</td>\n",
              "      <td>5</td>\n",
              "      <td>1700000</td>\n",
              "      <td>0.09</td>\n",
              "      <td>NaN</td>\n",
              "      <td>NaN</td>\n",
              "      <td>Gyeonggi</td>\n",
              "    </tr>\n",
              "    <tr>\n",
              "      <th>9</th>\n",
              "      <td>AhnMi</td>\n",
              "      <td>3</td>\n",
              "      <td>1200000</td>\n",
              "      <td>0.05</td>\n",
              "      <td>NaN</td>\n",
              "      <td>NaN</td>\n",
              "      <td>Seoul</td>\n",
              "    </tr>\n",
              "  </tbody>\n",
              "</table>\n",
              "</div>\n",
              "      <button class=\"colab-df-convert\" onclick=\"convertToInteractive('df-8dc6a3d6-7e7b-4b8d-8766-2610492ec2f0')\"\n",
              "              title=\"Convert this dataframe to an interactive table.\"\n",
              "              style=\"display:none;\">\n",
              "        \n",
              "  <svg xmlns=\"http://www.w3.org/2000/svg\" height=\"24px\"viewBox=\"0 0 24 24\"\n",
              "       width=\"24px\">\n",
              "    <path d=\"M0 0h24v24H0V0z\" fill=\"none\"/>\n",
              "    <path d=\"M18.56 5.44l.94 2.06.94-2.06 2.06-.94-2.06-.94-.94-2.06-.94 2.06-2.06.94zm-11 1L8.5 8.5l.94-2.06 2.06-.94-2.06-.94L8.5 2.5l-.94 2.06-2.06.94zm10 10l.94 2.06.94-2.06 2.06-.94-2.06-.94-.94-2.06-.94 2.06-2.06.94z\"/><path d=\"M17.41 7.96l-1.37-1.37c-.4-.4-.92-.59-1.43-.59-.52 0-1.04.2-1.43.59L10.3 9.45l-7.72 7.72c-.78.78-.78 2.05 0 2.83L4 21.41c.39.39.9.59 1.41.59.51 0 1.02-.2 1.41-.59l7.78-7.78 2.81-2.81c.8-.78.8-2.07 0-2.86zM5.41 20L4 18.59l7.72-7.72 1.47 1.35L5.41 20z\"/>\n",
              "  </svg>\n",
              "      </button>\n",
              "      \n",
              "  <style>\n",
              "    .colab-df-container {\n",
              "      display:flex;\n",
              "      flex-wrap:wrap;\n",
              "      gap: 12px;\n",
              "    }\n",
              "\n",
              "    .colab-df-convert {\n",
              "      background-color: #E8F0FE;\n",
              "      border: none;\n",
              "      border-radius: 50%;\n",
              "      cursor: pointer;\n",
              "      display: none;\n",
              "      fill: #1967D2;\n",
              "      height: 32px;\n",
              "      padding: 0 0 0 0;\n",
              "      width: 32px;\n",
              "    }\n",
              "\n",
              "    .colab-df-convert:hover {\n",
              "      background-color: #E2EBFA;\n",
              "      box-shadow: 0px 1px 2px rgba(60, 64, 67, 0.3), 0px 1px 3px 1px rgba(60, 64, 67, 0.15);\n",
              "      fill: #174EA6;\n",
              "    }\n",
              "\n",
              "    [theme=dark] .colab-df-convert {\n",
              "      background-color: #3B4455;\n",
              "      fill: #D2E3FC;\n",
              "    }\n",
              "\n",
              "    [theme=dark] .colab-df-convert:hover {\n",
              "      background-color: #434B5C;\n",
              "      box-shadow: 0px 1px 3px 1px rgba(0, 0, 0, 0.15);\n",
              "      filter: drop-shadow(0px 1px 2px rgba(0, 0, 0, 0.3));\n",
              "      fill: #FFFFFF;\n",
              "    }\n",
              "  </style>\n",
              "\n",
              "      <script>\n",
              "        const buttonEl =\n",
              "          document.querySelector('#df-8dc6a3d6-7e7b-4b8d-8766-2610492ec2f0 button.colab-df-convert');\n",
              "        buttonEl.style.display =\n",
              "          google.colab.kernel.accessAllowed ? 'block' : 'none';\n",
              "\n",
              "        async function convertToInteractive(key) {\n",
              "          const element = document.querySelector('#df-8dc6a3d6-7e7b-4b8d-8766-2610492ec2f0');\n",
              "          const dataTable =\n",
              "            await google.colab.kernel.invokeFunction('convertToInteractive',\n",
              "                                                     [key], {});\n",
              "          if (!dataTable) return;\n",
              "\n",
              "          const docLinkHtml = 'Like what you see? Visit the ' +\n",
              "            '<a target=\"_blank\" href=https://colab.research.google.com/notebooks/data_table.ipynb>data table notebook</a>'\n",
              "            + ' to learn more about interactive tables.';\n",
              "          element.innerHTML = '';\n",
              "          dataTable['output_type'] = 'display_data';\n",
              "          await google.colab.output.renderOutput(dataTable, element);\n",
              "          const docLink = document.createElement('div');\n",
              "          docLink.innerHTML = docLinkHtml;\n",
              "          element.appendChild(docLink);\n",
              "        }\n",
              "      </script>\n",
              "    </div>\n",
              "  </div>\n",
              "  "
            ]
          },
          "metadata": {},
          "execution_count": 224
        }
      ]
    },
    {
      "cell_type": "code",
      "source": [
        "# 데이터프레임을 리스트로 변경\n",
        "\n",
        "people"
      ],
      "metadata": {
        "colab": {
          "base_uri": "https://localhost:8080/"
        },
        "id": "8SJkX2oP_wo3",
        "outputId": "ddadbabd-f585-486f-fa3d-fd7e4ce28b96"
      },
      "execution_count": null,
      "outputs": [
        {
          "output_type": "execute_result",
          "data": {
            "text/plain": [
              "[['LeeYoung', 15, 2600000, 0.15, nan, nan, 'Seoul'],\n",
              " ['KimYou', 9, 2300000, 0.1, nan, nan, 'Gyeonggi'],\n",
              " ['KamWoo', 10, 2000000, 0.12, nan, nan, 'Seoul'],\n",
              " ['ParkJin', 8, 2200000, 0.1, nan, nan, 'Seoul'],\n",
              " ['ParkWoo', 4, 1300000, 0.07, nan, nan, 'Gyeonggi'],\n",
              " ['JungYou', 5, 1700000, 0.09, nan, nan, 'Gyeonggi'],\n",
              " ['LeeMoo', 7, 2000000, 0.09, nan, nan, 'Seoul'],\n",
              " ['NaYoung', 12, 2450000, 0.14, nan, nan, 'Gyeonggi'],\n",
              " ['ChoiTae', 5, 1700000, 0.09, nan, nan, 'Gyeonggi'],\n",
              " ['AhnMi', 3, 1200000, 0.05, nan, nan, 'Seoul']]"
            ]
          },
          "metadata": {},
          "execution_count": 225
        }
      ]
    },
    {
      "cell_type": "markdown",
      "source": [
        "####문제2-2\n",
        "- 이름의 마지막 글자를 *로 표시하기"
      ],
      "metadata": {
        "id": "XwxIY47F24FG"
      }
    },
    {
      "cell_type": "code",
      "source": [
        "\n",
        "\n",
        "\n",
        "\n",
        "\n",
        "\n",
        "for x in people:\n",
        "    print(x)"
      ],
      "metadata": {
        "colab": {
          "base_uri": "https://localhost:8080/"
        },
        "id": "6kcwnSfnD66V",
        "outputId": "5c459c45-234a-4457-ca2d-c9d0594e05e4"
      },
      "execution_count": null,
      "outputs": [
        {
          "output_type": "stream",
          "name": "stdout",
          "text": [
            "['LeeYoun*', 15, 2600000, 0.15, nan, nan, 'Seoul']\n",
            "['KimYo*', 9, 2300000, 0.1, nan, nan, 'Gyeonggi']\n",
            "['KamWo*', 10, 2000000, 0.12, nan, nan, 'Seoul']\n",
            "['ParkJi*', 8, 2200000, 0.1, nan, nan, 'Seoul']\n",
            "['ParkWo*', 4, 1300000, 0.07, nan, nan, 'Gyeonggi']\n",
            "['JungYo*', 5, 1700000, 0.09, nan, nan, 'Gyeonggi']\n",
            "['LeeMo*', 7, 2000000, 0.09, nan, nan, 'Seoul']\n",
            "['NaYoun*', 12, 2450000, 0.14, nan, nan, 'Gyeonggi']\n",
            "['ChoiTa*', 5, 1700000, 0.09, nan, nan, 'Gyeonggi']\n",
            "['AhnM*', 3, 1200000, 0.05, nan, nan, 'Seoul']\n"
          ]
        }
      ]
    },
    {
      "cell_type": "markdown",
      "source": [
        "####문제2-3\n",
        "- 수당 = 기본급 * 상여비율\n",
        "- 총 지급액 = 기본급 + 수당"
      ],
      "metadata": {
        "id": "3FLJN3xD3XLa"
      }
    },
    {
      "cell_type": "code",
      "source": [
        "# 다섯번째 열에 수당(기본급 * 상여비율), 여섯번째 열에 총 지급액(기본급 + 수당) 계산하여 저장\n",
        "\n",
        "\n",
        "\n",
        "for x in people:\n",
        "    print(x)"
      ],
      "metadata": {
        "colab": {
          "base_uri": "https://localhost:8080/"
        },
        "outputId": "113b4852-b18b-459b-c0c8-876edd630018",
        "id": "1Xgn1sSGtJo1"
      },
      "execution_count": null,
      "outputs": [
        {
          "output_type": "stream",
          "name": "stdout",
          "text": [
            "['LeeYoun*', 15, 2600000, 0.15, 390000, 2990000, 'Seoul']\n",
            "['KimYo*', 9, 2300000, 0.1, 230000, 2530000, 'Gyeonggi']\n",
            "['KamWo*', 10, 2000000, 0.12, 240000, 2240000, 'Seoul']\n",
            "['ParkJi*', 8, 2200000, 0.1, 220000, 2420000, 'Seoul']\n",
            "['ParkWo*', 4, 1300000, 0.07, 91000, 1391000, 'Gyeonggi']\n",
            "['JungYo*', 5, 1700000, 0.09, 153000, 1853000, 'Gyeonggi']\n",
            "['LeeMo*', 7, 2000000, 0.09, 180000, 2180000, 'Seoul']\n",
            "['NaYoun*', 12, 2450000, 0.14, 343000, 2793000, 'Gyeonggi']\n",
            "['ChoiTa*', 5, 1700000, 0.09, 153000, 1853000, 'Gyeonggi']\n",
            "['AhnM*', 3, 1200000, 0.05, 60000, 1260000, 'Seoul']\n"
          ]
        }
      ]
    },
    {
      "cell_type": "code",
      "source": [
        "# 리스트를 다시 데이터프레임으로 변경\n",
        "\n",
        "people_df"
      ],
      "metadata": {
        "colab": {
          "base_uri": "https://localhost:8080/",
          "height": 363
        },
        "id": "vvnynWZxN-5-",
        "outputId": "85df459b-5737-4fb4-f7cf-6066286d0a4d"
      },
      "execution_count": null,
      "outputs": [
        {
          "output_type": "execute_result",
          "data": {
            "text/plain": [
              "          0   1        2     3       4        5         6\n",
              "0  LeeYoun*  15  2600000  0.15  390000  2990000     Seoul\n",
              "1    KimYo*   9  2300000  0.10  230000  2530000  Gyeonggi\n",
              "2    KamWo*  10  2000000  0.12  240000  2240000     Seoul\n",
              "3   ParkJi*   8  2200000  0.10  220000  2420000     Seoul\n",
              "4   ParkWo*   4  1300000  0.07   91000  1391000  Gyeonggi\n",
              "5   JungYo*   5  1700000  0.09  153000  1853000  Gyeonggi\n",
              "6    LeeMo*   7  2000000  0.09  180000  2180000     Seoul\n",
              "7   NaYoun*  12  2450000  0.14  343000  2793000  Gyeonggi\n",
              "8   ChoiTa*   5  1700000  0.09  153000  1853000  Gyeonggi\n",
              "9     AhnM*   3  1200000  0.05   60000  1260000     Seoul"
            ],
            "text/html": [
              "\n",
              "  <div id=\"df-889b9476-09ba-480b-abcf-092a52e8ff75\">\n",
              "    <div class=\"colab-df-container\">\n",
              "      <div>\n",
              "<style scoped>\n",
              "    .dataframe tbody tr th:only-of-type {\n",
              "        vertical-align: middle;\n",
              "    }\n",
              "\n",
              "    .dataframe tbody tr th {\n",
              "        vertical-align: top;\n",
              "    }\n",
              "\n",
              "    .dataframe thead th {\n",
              "        text-align: right;\n",
              "    }\n",
              "</style>\n",
              "<table border=\"1\" class=\"dataframe\">\n",
              "  <thead>\n",
              "    <tr style=\"text-align: right;\">\n",
              "      <th></th>\n",
              "      <th>0</th>\n",
              "      <th>1</th>\n",
              "      <th>2</th>\n",
              "      <th>3</th>\n",
              "      <th>4</th>\n",
              "      <th>5</th>\n",
              "      <th>6</th>\n",
              "    </tr>\n",
              "  </thead>\n",
              "  <tbody>\n",
              "    <tr>\n",
              "      <th>0</th>\n",
              "      <td>LeeYoun*</td>\n",
              "      <td>15</td>\n",
              "      <td>2600000</td>\n",
              "      <td>0.15</td>\n",
              "      <td>390000</td>\n",
              "      <td>2990000</td>\n",
              "      <td>Seoul</td>\n",
              "    </tr>\n",
              "    <tr>\n",
              "      <th>1</th>\n",
              "      <td>KimYo*</td>\n",
              "      <td>9</td>\n",
              "      <td>2300000</td>\n",
              "      <td>0.10</td>\n",
              "      <td>230000</td>\n",
              "      <td>2530000</td>\n",
              "      <td>Gyeonggi</td>\n",
              "    </tr>\n",
              "    <tr>\n",
              "      <th>2</th>\n",
              "      <td>KamWo*</td>\n",
              "      <td>10</td>\n",
              "      <td>2000000</td>\n",
              "      <td>0.12</td>\n",
              "      <td>240000</td>\n",
              "      <td>2240000</td>\n",
              "      <td>Seoul</td>\n",
              "    </tr>\n",
              "    <tr>\n",
              "      <th>3</th>\n",
              "      <td>ParkJi*</td>\n",
              "      <td>8</td>\n",
              "      <td>2200000</td>\n",
              "      <td>0.10</td>\n",
              "      <td>220000</td>\n",
              "      <td>2420000</td>\n",
              "      <td>Seoul</td>\n",
              "    </tr>\n",
              "    <tr>\n",
              "      <th>4</th>\n",
              "      <td>ParkWo*</td>\n",
              "      <td>4</td>\n",
              "      <td>1300000</td>\n",
              "      <td>0.07</td>\n",
              "      <td>91000</td>\n",
              "      <td>1391000</td>\n",
              "      <td>Gyeonggi</td>\n",
              "    </tr>\n",
              "    <tr>\n",
              "      <th>5</th>\n",
              "      <td>JungYo*</td>\n",
              "      <td>5</td>\n",
              "      <td>1700000</td>\n",
              "      <td>0.09</td>\n",
              "      <td>153000</td>\n",
              "      <td>1853000</td>\n",
              "      <td>Gyeonggi</td>\n",
              "    </tr>\n",
              "    <tr>\n",
              "      <th>6</th>\n",
              "      <td>LeeMo*</td>\n",
              "      <td>7</td>\n",
              "      <td>2000000</td>\n",
              "      <td>0.09</td>\n",
              "      <td>180000</td>\n",
              "      <td>2180000</td>\n",
              "      <td>Seoul</td>\n",
              "    </tr>\n",
              "    <tr>\n",
              "      <th>7</th>\n",
              "      <td>NaYoun*</td>\n",
              "      <td>12</td>\n",
              "      <td>2450000</td>\n",
              "      <td>0.14</td>\n",
              "      <td>343000</td>\n",
              "      <td>2793000</td>\n",
              "      <td>Gyeonggi</td>\n",
              "    </tr>\n",
              "    <tr>\n",
              "      <th>8</th>\n",
              "      <td>ChoiTa*</td>\n",
              "      <td>5</td>\n",
              "      <td>1700000</td>\n",
              "      <td>0.09</td>\n",
              "      <td>153000</td>\n",
              "      <td>1853000</td>\n",
              "      <td>Gyeonggi</td>\n",
              "    </tr>\n",
              "    <tr>\n",
              "      <th>9</th>\n",
              "      <td>AhnM*</td>\n",
              "      <td>3</td>\n",
              "      <td>1200000</td>\n",
              "      <td>0.05</td>\n",
              "      <td>60000</td>\n",
              "      <td>1260000</td>\n",
              "      <td>Seoul</td>\n",
              "    </tr>\n",
              "  </tbody>\n",
              "</table>\n",
              "</div>\n",
              "      <button class=\"colab-df-convert\" onclick=\"convertToInteractive('df-889b9476-09ba-480b-abcf-092a52e8ff75')\"\n",
              "              title=\"Convert this dataframe to an interactive table.\"\n",
              "              style=\"display:none;\">\n",
              "        \n",
              "  <svg xmlns=\"http://www.w3.org/2000/svg\" height=\"24px\"viewBox=\"0 0 24 24\"\n",
              "       width=\"24px\">\n",
              "    <path d=\"M0 0h24v24H0V0z\" fill=\"none\"/>\n",
              "    <path d=\"M18.56 5.44l.94 2.06.94-2.06 2.06-.94-2.06-.94-.94-2.06-.94 2.06-2.06.94zm-11 1L8.5 8.5l.94-2.06 2.06-.94-2.06-.94L8.5 2.5l-.94 2.06-2.06.94zm10 10l.94 2.06.94-2.06 2.06-.94-2.06-.94-.94-2.06-.94 2.06-2.06.94z\"/><path d=\"M17.41 7.96l-1.37-1.37c-.4-.4-.92-.59-1.43-.59-.52 0-1.04.2-1.43.59L10.3 9.45l-7.72 7.72c-.78.78-.78 2.05 0 2.83L4 21.41c.39.39.9.59 1.41.59.51 0 1.02-.2 1.41-.59l7.78-7.78 2.81-2.81c.8-.78.8-2.07 0-2.86zM5.41 20L4 18.59l7.72-7.72 1.47 1.35L5.41 20z\"/>\n",
              "  </svg>\n",
              "      </button>\n",
              "      \n",
              "  <style>\n",
              "    .colab-df-container {\n",
              "      display:flex;\n",
              "      flex-wrap:wrap;\n",
              "      gap: 12px;\n",
              "    }\n",
              "\n",
              "    .colab-df-convert {\n",
              "      background-color: #E8F0FE;\n",
              "      border: none;\n",
              "      border-radius: 50%;\n",
              "      cursor: pointer;\n",
              "      display: none;\n",
              "      fill: #1967D2;\n",
              "      height: 32px;\n",
              "      padding: 0 0 0 0;\n",
              "      width: 32px;\n",
              "    }\n",
              "\n",
              "    .colab-df-convert:hover {\n",
              "      background-color: #E2EBFA;\n",
              "      box-shadow: 0px 1px 2px rgba(60, 64, 67, 0.3), 0px 1px 3px 1px rgba(60, 64, 67, 0.15);\n",
              "      fill: #174EA6;\n",
              "    }\n",
              "\n",
              "    [theme=dark] .colab-df-convert {\n",
              "      background-color: #3B4455;\n",
              "      fill: #D2E3FC;\n",
              "    }\n",
              "\n",
              "    [theme=dark] .colab-df-convert:hover {\n",
              "      background-color: #434B5C;\n",
              "      box-shadow: 0px 1px 3px 1px rgba(0, 0, 0, 0.15);\n",
              "      filter: drop-shadow(0px 1px 2px rgba(0, 0, 0, 0.3));\n",
              "      fill: #FFFFFF;\n",
              "    }\n",
              "  </style>\n",
              "\n",
              "      <script>\n",
              "        const buttonEl =\n",
              "          document.querySelector('#df-889b9476-09ba-480b-abcf-092a52e8ff75 button.colab-df-convert');\n",
              "        buttonEl.style.display =\n",
              "          google.colab.kernel.accessAllowed ? 'block' : 'none';\n",
              "\n",
              "        async function convertToInteractive(key) {\n",
              "          const element = document.querySelector('#df-889b9476-09ba-480b-abcf-092a52e8ff75');\n",
              "          const dataTable =\n",
              "            await google.colab.kernel.invokeFunction('convertToInteractive',\n",
              "                                                     [key], {});\n",
              "          if (!dataTable) return;\n",
              "\n",
              "          const docLinkHtml = 'Like what you see? Visit the ' +\n",
              "            '<a target=\"_blank\" href=https://colab.research.google.com/notebooks/data_table.ipynb>data table notebook</a>'\n",
              "            + ' to learn more about interactive tables.';\n",
              "          element.innerHTML = '';\n",
              "          dataTable['output_type'] = 'display_data';\n",
              "          await google.colab.output.renderOutput(dataTable, element);\n",
              "          const docLink = document.createElement('div');\n",
              "          docLink.innerHTML = docLinkHtml;\n",
              "          element.appendChild(docLink);\n",
              "        }\n",
              "      </script>\n",
              "    </div>\n",
              "  </div>\n",
              "  "
            ]
          },
          "metadata": {},
          "execution_count": 205
        }
      ]
    },
    {
      "cell_type": "markdown",
      "source": [
        "####문제2-4\n",
        "- 컬럼명 변경"
      ],
      "metadata": {
        "id": "d_7jYIY_4EO1"
      }
    },
    {
      "cell_type": "code",
      "source": [
        "# 컬럼명 변경\n",
        "\n",
        "people_df"
      ],
      "metadata": {
        "colab": {
          "base_uri": "https://localhost:8080/",
          "height": 363
        },
        "outputId": "751d19d3-7ea0-42cb-86d3-41fc2a7ac661",
        "id": "Ce5FlB8dfGX3"
      },
      "execution_count": null,
      "outputs": [
        {
          "output_type": "execute_result",
          "data": {
            "text/plain": [
              "       name  working_years  basic_pay  bonus_rate  extra_pay  total_pay  \\\n",
              "0  LeeYoun*             15    2600000        0.15     390000    2990000   \n",
              "1    KimYo*              9    2300000        0.10     230000    2530000   \n",
              "2    KamWo*             10    2000000        0.12     240000    2240000   \n",
              "3   ParkJi*              8    2200000        0.10     220000    2420000   \n",
              "4   ParkWo*              4    1300000        0.07      91000    1391000   \n",
              "5   JungYo*              5    1700000        0.09     153000    1853000   \n",
              "6    LeeMo*              7    2000000        0.09     180000    2180000   \n",
              "7   NaYoun*             12    2450000        0.14     343000    2793000   \n",
              "8   ChoiTa*              5    1700000        0.09     153000    1853000   \n",
              "9     AhnM*              3    1200000        0.05      60000    1260000   \n",
              "\n",
              "  residence  \n",
              "0     Seoul  \n",
              "1  Gyeonggi  \n",
              "2     Seoul  \n",
              "3     Seoul  \n",
              "4  Gyeonggi  \n",
              "5  Gyeonggi  \n",
              "6     Seoul  \n",
              "7  Gyeonggi  \n",
              "8  Gyeonggi  \n",
              "9     Seoul  "
            ],
            "text/html": [
              "\n",
              "  <div id=\"df-de69e06e-bf56-4894-989b-f48ed9fc7005\">\n",
              "    <div class=\"colab-df-container\">\n",
              "      <div>\n",
              "<style scoped>\n",
              "    .dataframe tbody tr th:only-of-type {\n",
              "        vertical-align: middle;\n",
              "    }\n",
              "\n",
              "    .dataframe tbody tr th {\n",
              "        vertical-align: top;\n",
              "    }\n",
              "\n",
              "    .dataframe thead th {\n",
              "        text-align: right;\n",
              "    }\n",
              "</style>\n",
              "<table border=\"1\" class=\"dataframe\">\n",
              "  <thead>\n",
              "    <tr style=\"text-align: right;\">\n",
              "      <th></th>\n",
              "      <th>name</th>\n",
              "      <th>working_years</th>\n",
              "      <th>basic_pay</th>\n",
              "      <th>bonus_rate</th>\n",
              "      <th>extra_pay</th>\n",
              "      <th>total_pay</th>\n",
              "      <th>residence</th>\n",
              "    </tr>\n",
              "  </thead>\n",
              "  <tbody>\n",
              "    <tr>\n",
              "      <th>0</th>\n",
              "      <td>LeeYoun*</td>\n",
              "      <td>15</td>\n",
              "      <td>2600000</td>\n",
              "      <td>0.15</td>\n",
              "      <td>390000</td>\n",
              "      <td>2990000</td>\n",
              "      <td>Seoul</td>\n",
              "    </tr>\n",
              "    <tr>\n",
              "      <th>1</th>\n",
              "      <td>KimYo*</td>\n",
              "      <td>9</td>\n",
              "      <td>2300000</td>\n",
              "      <td>0.10</td>\n",
              "      <td>230000</td>\n",
              "      <td>2530000</td>\n",
              "      <td>Gyeonggi</td>\n",
              "    </tr>\n",
              "    <tr>\n",
              "      <th>2</th>\n",
              "      <td>KamWo*</td>\n",
              "      <td>10</td>\n",
              "      <td>2000000</td>\n",
              "      <td>0.12</td>\n",
              "      <td>240000</td>\n",
              "      <td>2240000</td>\n",
              "      <td>Seoul</td>\n",
              "    </tr>\n",
              "    <tr>\n",
              "      <th>3</th>\n",
              "      <td>ParkJi*</td>\n",
              "      <td>8</td>\n",
              "      <td>2200000</td>\n",
              "      <td>0.10</td>\n",
              "      <td>220000</td>\n",
              "      <td>2420000</td>\n",
              "      <td>Seoul</td>\n",
              "    </tr>\n",
              "    <tr>\n",
              "      <th>4</th>\n",
              "      <td>ParkWo*</td>\n",
              "      <td>4</td>\n",
              "      <td>1300000</td>\n",
              "      <td>0.07</td>\n",
              "      <td>91000</td>\n",
              "      <td>1391000</td>\n",
              "      <td>Gyeonggi</td>\n",
              "    </tr>\n",
              "    <tr>\n",
              "      <th>5</th>\n",
              "      <td>JungYo*</td>\n",
              "      <td>5</td>\n",
              "      <td>1700000</td>\n",
              "      <td>0.09</td>\n",
              "      <td>153000</td>\n",
              "      <td>1853000</td>\n",
              "      <td>Gyeonggi</td>\n",
              "    </tr>\n",
              "    <tr>\n",
              "      <th>6</th>\n",
              "      <td>LeeMo*</td>\n",
              "      <td>7</td>\n",
              "      <td>2000000</td>\n",
              "      <td>0.09</td>\n",
              "      <td>180000</td>\n",
              "      <td>2180000</td>\n",
              "      <td>Seoul</td>\n",
              "    </tr>\n",
              "    <tr>\n",
              "      <th>7</th>\n",
              "      <td>NaYoun*</td>\n",
              "      <td>12</td>\n",
              "      <td>2450000</td>\n",
              "      <td>0.14</td>\n",
              "      <td>343000</td>\n",
              "      <td>2793000</td>\n",
              "      <td>Gyeonggi</td>\n",
              "    </tr>\n",
              "    <tr>\n",
              "      <th>8</th>\n",
              "      <td>ChoiTa*</td>\n",
              "      <td>5</td>\n",
              "      <td>1700000</td>\n",
              "      <td>0.09</td>\n",
              "      <td>153000</td>\n",
              "      <td>1853000</td>\n",
              "      <td>Gyeonggi</td>\n",
              "    </tr>\n",
              "    <tr>\n",
              "      <th>9</th>\n",
              "      <td>AhnM*</td>\n",
              "      <td>3</td>\n",
              "      <td>1200000</td>\n",
              "      <td>0.05</td>\n",
              "      <td>60000</td>\n",
              "      <td>1260000</td>\n",
              "      <td>Seoul</td>\n",
              "    </tr>\n",
              "  </tbody>\n",
              "</table>\n",
              "</div>\n",
              "      <button class=\"colab-df-convert\" onclick=\"convertToInteractive('df-de69e06e-bf56-4894-989b-f48ed9fc7005')\"\n",
              "              title=\"Convert this dataframe to an interactive table.\"\n",
              "              style=\"display:none;\">\n",
              "        \n",
              "  <svg xmlns=\"http://www.w3.org/2000/svg\" height=\"24px\"viewBox=\"0 0 24 24\"\n",
              "       width=\"24px\">\n",
              "    <path d=\"M0 0h24v24H0V0z\" fill=\"none\"/>\n",
              "    <path d=\"M18.56 5.44l.94 2.06.94-2.06 2.06-.94-2.06-.94-.94-2.06-.94 2.06-2.06.94zm-11 1L8.5 8.5l.94-2.06 2.06-.94-2.06-.94L8.5 2.5l-.94 2.06-2.06.94zm10 10l.94 2.06.94-2.06 2.06-.94-2.06-.94-.94-2.06-.94 2.06-2.06.94z\"/><path d=\"M17.41 7.96l-1.37-1.37c-.4-.4-.92-.59-1.43-.59-.52 0-1.04.2-1.43.59L10.3 9.45l-7.72 7.72c-.78.78-.78 2.05 0 2.83L4 21.41c.39.39.9.59 1.41.59.51 0 1.02-.2 1.41-.59l7.78-7.78 2.81-2.81c.8-.78.8-2.07 0-2.86zM5.41 20L4 18.59l7.72-7.72 1.47 1.35L5.41 20z\"/>\n",
              "  </svg>\n",
              "      </button>\n",
              "      \n",
              "  <style>\n",
              "    .colab-df-container {\n",
              "      display:flex;\n",
              "      flex-wrap:wrap;\n",
              "      gap: 12px;\n",
              "    }\n",
              "\n",
              "    .colab-df-convert {\n",
              "      background-color: #E8F0FE;\n",
              "      border: none;\n",
              "      border-radius: 50%;\n",
              "      cursor: pointer;\n",
              "      display: none;\n",
              "      fill: #1967D2;\n",
              "      height: 32px;\n",
              "      padding: 0 0 0 0;\n",
              "      width: 32px;\n",
              "    }\n",
              "\n",
              "    .colab-df-convert:hover {\n",
              "      background-color: #E2EBFA;\n",
              "      box-shadow: 0px 1px 2px rgba(60, 64, 67, 0.3), 0px 1px 3px 1px rgba(60, 64, 67, 0.15);\n",
              "      fill: #174EA6;\n",
              "    }\n",
              "\n",
              "    [theme=dark] .colab-df-convert {\n",
              "      background-color: #3B4455;\n",
              "      fill: #D2E3FC;\n",
              "    }\n",
              "\n",
              "    [theme=dark] .colab-df-convert:hover {\n",
              "      background-color: #434B5C;\n",
              "      box-shadow: 0px 1px 3px 1px rgba(0, 0, 0, 0.15);\n",
              "      filter: drop-shadow(0px 1px 2px rgba(0, 0, 0, 0.3));\n",
              "      fill: #FFFFFF;\n",
              "    }\n",
              "  </style>\n",
              "\n",
              "      <script>\n",
              "        const buttonEl =\n",
              "          document.querySelector('#df-de69e06e-bf56-4894-989b-f48ed9fc7005 button.colab-df-convert');\n",
              "        buttonEl.style.display =\n",
              "          google.colab.kernel.accessAllowed ? 'block' : 'none';\n",
              "\n",
              "        async function convertToInteractive(key) {\n",
              "          const element = document.querySelector('#df-de69e06e-bf56-4894-989b-f48ed9fc7005');\n",
              "          const dataTable =\n",
              "            await google.colab.kernel.invokeFunction('convertToInteractive',\n",
              "                                                     [key], {});\n",
              "          if (!dataTable) return;\n",
              "\n",
              "          const docLinkHtml = 'Like what you see? Visit the ' +\n",
              "            '<a target=\"_blank\" href=https://colab.research.google.com/notebooks/data_table.ipynb>data table notebook</a>'\n",
              "            + ' to learn more about interactive tables.';\n",
              "          element.innerHTML = '';\n",
              "          dataTable['output_type'] = 'display_data';\n",
              "          await google.colab.output.renderOutput(dataTable, element);\n",
              "          const docLink = document.createElement('div');\n",
              "          docLink.innerHTML = docLinkHtml;\n",
              "          element.appendChild(docLink);\n",
              "        }\n",
              "      </script>\n",
              "    </div>\n",
              "  </div>\n",
              "  "
            ]
          },
          "metadata": {},
          "execution_count": 206
        }
      ]
    },
    {
      "cell_type": "markdown",
      "source": [
        "####문제2-5\n",
        "- 엑셀 파일로 저장한 후 읽어와서 확인"
      ],
      "metadata": {
        "id": "b6tcvgg14Jn5"
      }
    },
    {
      "cell_type": "code",
      "source": [
        "# 'people.xlsx' 파일로 저장한 후 읽어와서 확인\n",
        "\n",
        "people_df"
      ],
      "metadata": {
        "colab": {
          "base_uri": "https://localhost:8080/",
          "height": 363
        },
        "outputId": "37721e9c-9ab2-4a19-cee8-a022141a4d7f",
        "id": "zNEuynz3fJxL"
      },
      "execution_count": null,
      "outputs": [
        {
          "output_type": "execute_result",
          "data": {
            "text/plain": [
              "       name  working_years  basic_pay  bonus_rate  extra_pay  total_pay  \\\n",
              "0  LeeYoun*             15    2600000        0.15     390000    2990000   \n",
              "1    KimYo*              9    2300000        0.10     230000    2530000   \n",
              "2    KamWo*             10    2000000        0.12     240000    2240000   \n",
              "3   ParkJi*              8    2200000        0.10     220000    2420000   \n",
              "4   ParkWo*              4    1300000        0.07      91000    1391000   \n",
              "5   JungYo*              5    1700000        0.09     153000    1853000   \n",
              "6    LeeMo*              7    2000000        0.09     180000    2180000   \n",
              "7   NaYoun*             12    2450000        0.14     343000    2793000   \n",
              "8   ChoiTa*              5    1700000        0.09     153000    1853000   \n",
              "9     AhnM*              3    1200000        0.05      60000    1260000   \n",
              "\n",
              "  residence  \n",
              "0     Seoul  \n",
              "1  Gyeonggi  \n",
              "2     Seoul  \n",
              "3     Seoul  \n",
              "4  Gyeonggi  \n",
              "5  Gyeonggi  \n",
              "6     Seoul  \n",
              "7  Gyeonggi  \n",
              "8  Gyeonggi  \n",
              "9     Seoul  "
            ],
            "text/html": [
              "\n",
              "  <div id=\"df-196650ad-8ac9-4888-a873-acfffc7c7d71\">\n",
              "    <div class=\"colab-df-container\">\n",
              "      <div>\n",
              "<style scoped>\n",
              "    .dataframe tbody tr th:only-of-type {\n",
              "        vertical-align: middle;\n",
              "    }\n",
              "\n",
              "    .dataframe tbody tr th {\n",
              "        vertical-align: top;\n",
              "    }\n",
              "\n",
              "    .dataframe thead th {\n",
              "        text-align: right;\n",
              "    }\n",
              "</style>\n",
              "<table border=\"1\" class=\"dataframe\">\n",
              "  <thead>\n",
              "    <tr style=\"text-align: right;\">\n",
              "      <th></th>\n",
              "      <th>name</th>\n",
              "      <th>working_years</th>\n",
              "      <th>basic_pay</th>\n",
              "      <th>bonus_rate</th>\n",
              "      <th>extra_pay</th>\n",
              "      <th>total_pay</th>\n",
              "      <th>residence</th>\n",
              "    </tr>\n",
              "  </thead>\n",
              "  <tbody>\n",
              "    <tr>\n",
              "      <th>0</th>\n",
              "      <td>LeeYoun*</td>\n",
              "      <td>15</td>\n",
              "      <td>2600000</td>\n",
              "      <td>0.15</td>\n",
              "      <td>390000</td>\n",
              "      <td>2990000</td>\n",
              "      <td>Seoul</td>\n",
              "    </tr>\n",
              "    <tr>\n",
              "      <th>1</th>\n",
              "      <td>KimYo*</td>\n",
              "      <td>9</td>\n",
              "      <td>2300000</td>\n",
              "      <td>0.10</td>\n",
              "      <td>230000</td>\n",
              "      <td>2530000</td>\n",
              "      <td>Gyeonggi</td>\n",
              "    </tr>\n",
              "    <tr>\n",
              "      <th>2</th>\n",
              "      <td>KamWo*</td>\n",
              "      <td>10</td>\n",
              "      <td>2000000</td>\n",
              "      <td>0.12</td>\n",
              "      <td>240000</td>\n",
              "      <td>2240000</td>\n",
              "      <td>Seoul</td>\n",
              "    </tr>\n",
              "    <tr>\n",
              "      <th>3</th>\n",
              "      <td>ParkJi*</td>\n",
              "      <td>8</td>\n",
              "      <td>2200000</td>\n",
              "      <td>0.10</td>\n",
              "      <td>220000</td>\n",
              "      <td>2420000</td>\n",
              "      <td>Seoul</td>\n",
              "    </tr>\n",
              "    <tr>\n",
              "      <th>4</th>\n",
              "      <td>ParkWo*</td>\n",
              "      <td>4</td>\n",
              "      <td>1300000</td>\n",
              "      <td>0.07</td>\n",
              "      <td>91000</td>\n",
              "      <td>1391000</td>\n",
              "      <td>Gyeonggi</td>\n",
              "    </tr>\n",
              "    <tr>\n",
              "      <th>5</th>\n",
              "      <td>JungYo*</td>\n",
              "      <td>5</td>\n",
              "      <td>1700000</td>\n",
              "      <td>0.09</td>\n",
              "      <td>153000</td>\n",
              "      <td>1853000</td>\n",
              "      <td>Gyeonggi</td>\n",
              "    </tr>\n",
              "    <tr>\n",
              "      <th>6</th>\n",
              "      <td>LeeMo*</td>\n",
              "      <td>7</td>\n",
              "      <td>2000000</td>\n",
              "      <td>0.09</td>\n",
              "      <td>180000</td>\n",
              "      <td>2180000</td>\n",
              "      <td>Seoul</td>\n",
              "    </tr>\n",
              "    <tr>\n",
              "      <th>7</th>\n",
              "      <td>NaYoun*</td>\n",
              "      <td>12</td>\n",
              "      <td>2450000</td>\n",
              "      <td>0.14</td>\n",
              "      <td>343000</td>\n",
              "      <td>2793000</td>\n",
              "      <td>Gyeonggi</td>\n",
              "    </tr>\n",
              "    <tr>\n",
              "      <th>8</th>\n",
              "      <td>ChoiTa*</td>\n",
              "      <td>5</td>\n",
              "      <td>1700000</td>\n",
              "      <td>0.09</td>\n",
              "      <td>153000</td>\n",
              "      <td>1853000</td>\n",
              "      <td>Gyeonggi</td>\n",
              "    </tr>\n",
              "    <tr>\n",
              "      <th>9</th>\n",
              "      <td>AhnM*</td>\n",
              "      <td>3</td>\n",
              "      <td>1200000</td>\n",
              "      <td>0.05</td>\n",
              "      <td>60000</td>\n",
              "      <td>1260000</td>\n",
              "      <td>Seoul</td>\n",
              "    </tr>\n",
              "  </tbody>\n",
              "</table>\n",
              "</div>\n",
              "      <button class=\"colab-df-convert\" onclick=\"convertToInteractive('df-196650ad-8ac9-4888-a873-acfffc7c7d71')\"\n",
              "              title=\"Convert this dataframe to an interactive table.\"\n",
              "              style=\"display:none;\">\n",
              "        \n",
              "  <svg xmlns=\"http://www.w3.org/2000/svg\" height=\"24px\"viewBox=\"0 0 24 24\"\n",
              "       width=\"24px\">\n",
              "    <path d=\"M0 0h24v24H0V0z\" fill=\"none\"/>\n",
              "    <path d=\"M18.56 5.44l.94 2.06.94-2.06 2.06-.94-2.06-.94-.94-2.06-.94 2.06-2.06.94zm-11 1L8.5 8.5l.94-2.06 2.06-.94-2.06-.94L8.5 2.5l-.94 2.06-2.06.94zm10 10l.94 2.06.94-2.06 2.06-.94-2.06-.94-.94-2.06-.94 2.06-2.06.94z\"/><path d=\"M17.41 7.96l-1.37-1.37c-.4-.4-.92-.59-1.43-.59-.52 0-1.04.2-1.43.59L10.3 9.45l-7.72 7.72c-.78.78-.78 2.05 0 2.83L4 21.41c.39.39.9.59 1.41.59.51 0 1.02-.2 1.41-.59l7.78-7.78 2.81-2.81c.8-.78.8-2.07 0-2.86zM5.41 20L4 18.59l7.72-7.72 1.47 1.35L5.41 20z\"/>\n",
              "  </svg>\n",
              "      </button>\n",
              "      \n",
              "  <style>\n",
              "    .colab-df-container {\n",
              "      display:flex;\n",
              "      flex-wrap:wrap;\n",
              "      gap: 12px;\n",
              "    }\n",
              "\n",
              "    .colab-df-convert {\n",
              "      background-color: #E8F0FE;\n",
              "      border: none;\n",
              "      border-radius: 50%;\n",
              "      cursor: pointer;\n",
              "      display: none;\n",
              "      fill: #1967D2;\n",
              "      height: 32px;\n",
              "      padding: 0 0 0 0;\n",
              "      width: 32px;\n",
              "    }\n",
              "\n",
              "    .colab-df-convert:hover {\n",
              "      background-color: #E2EBFA;\n",
              "      box-shadow: 0px 1px 2px rgba(60, 64, 67, 0.3), 0px 1px 3px 1px rgba(60, 64, 67, 0.15);\n",
              "      fill: #174EA6;\n",
              "    }\n",
              "\n",
              "    [theme=dark] .colab-df-convert {\n",
              "      background-color: #3B4455;\n",
              "      fill: #D2E3FC;\n",
              "    }\n",
              "\n",
              "    [theme=dark] .colab-df-convert:hover {\n",
              "      background-color: #434B5C;\n",
              "      box-shadow: 0px 1px 3px 1px rgba(0, 0, 0, 0.15);\n",
              "      filter: drop-shadow(0px 1px 2px rgba(0, 0, 0, 0.3));\n",
              "      fill: #FFFFFF;\n",
              "    }\n",
              "  </style>\n",
              "\n",
              "      <script>\n",
              "        const buttonEl =\n",
              "          document.querySelector('#df-196650ad-8ac9-4888-a873-acfffc7c7d71 button.colab-df-convert');\n",
              "        buttonEl.style.display =\n",
              "          google.colab.kernel.accessAllowed ? 'block' : 'none';\n",
              "\n",
              "        async function convertToInteractive(key) {\n",
              "          const element = document.querySelector('#df-196650ad-8ac9-4888-a873-acfffc7c7d71');\n",
              "          const dataTable =\n",
              "            await google.colab.kernel.invokeFunction('convertToInteractive',\n",
              "                                                     [key], {});\n",
              "          if (!dataTable) return;\n",
              "\n",
              "          const docLinkHtml = 'Like what you see? Visit the ' +\n",
              "            '<a target=\"_blank\" href=https://colab.research.google.com/notebooks/data_table.ipynb>data table notebook</a>'\n",
              "            + ' to learn more about interactive tables.';\n",
              "          element.innerHTML = '';\n",
              "          dataTable['output_type'] = 'display_data';\n",
              "          await google.colab.output.renderOutput(dataTable, element);\n",
              "          const docLink = document.createElement('div');\n",
              "          docLink.innerHTML = docLinkHtml;\n",
              "          element.appendChild(docLink);\n",
              "        }\n",
              "      </script>\n",
              "    </div>\n",
              "  </div>\n",
              "  "
            ]
          },
          "metadata": {},
          "execution_count": 207
        }
      ]
    },
    {
      "cell_type": "markdown",
      "source": [
        "##문제3\n",
        "- 시각화 라이브러리를 활용하여 프로그램을 완성하시오."
      ],
      "metadata": {
        "id": "Cue4BgwLfNr5"
      }
    },
    {
      "cell_type": "markdown",
      "source": [
        "####문제3-1\n",
        "- 문제2의 데이터프레임에서 근무년수를 다음과 같이 선그래프로 나타낼 것"
      ],
      "metadata": {
        "id": "nEhCWqWKfPuq"
      }
    },
    {
      "cell_type": "code",
      "source": [
        "import pandas as pd\n",
        "import matplotlib.pyplot as plt\n",
        "import seaborn as sns"
      ],
      "metadata": {
        "id": "8dX9yY04fRxz"
      },
      "execution_count": null,
      "outputs": []
    },
    {
      "cell_type": "code",
      "source": [
        "plt.figure(figsize=(10,5))\n",
        "\n",
        "\n",
        "\n",
        "\n",
        "\n",
        "\n",
        "plt.show()"
      ],
      "metadata": {
        "colab": {
          "base_uri": "https://localhost:8080/",
          "height": 487
        },
        "id": "-MBqnLsHCGd8",
        "outputId": "ea99d563-9a93-45b3-8f98-654e386d985f"
      },
      "execution_count": null,
      "outputs": [
        {
          "output_type": "display_data",
          "data": {
            "text/plain": [
              "<Figure size 1000x500 with 1 Axes>"
            ],
            "image/png": "[encoded data removed]"
          },
          "metadata": {}
        }
      ]
    },
    {
      "cell_type": "markdown",
      "source": [
        "####문제3-2\n",
        "- 문제2의 데이터프레임에서 거주지와 근무년수를 다음과 같이 히스토그램으로 나타낼 것"
      ],
      "metadata": {
        "id": "GtbHkUFCauVC"
      }
    },
    {
      "cell_type": "code",
      "source": [
        "Seoul = \n",
        "Gyeonggi = \n",
        "\n",
        "plt.figure(figsize=(8,5))\n",
        "\n",
        "\n",
        "\n",
        "\n",
        "\n",
        "\n",
        "\n",
        "\n",
        "plt.show()"
      ],
      "metadata": {
        "colab": {
          "base_uri": "https://localhost:8080/",
          "height": 487
        },
        "id": "TDaXwJLrW_kI",
        "outputId": "7416bd54-c41c-4272-84e2-81284ffbf688"
      },
      "execution_count": null,
      "outputs": [
        {
          "output_type": "display_data",
          "data": {
            "text/plain": [
              "<Figure size 800x500 with 1 Axes>"
            ],
            "image/png": "[encoded data removed]"
          },
          "metadata": {}
        }
      ]
    },
    {
      "cell_type": "markdown",
      "source": [
        "####문제3-3\n",
        "- 문제2의 데이터프레임에서 근무년수, 상여비율, 총 지급액을 다음과 같이 히트맵으로 나타낼 것"
      ],
      "metadata": {
        "id": "uZ2eZLopbEpV"
      }
    },
    {
      "cell_type": "code",
      "source": [
        "data3 = \n",
        "plt.figure(figsize=(8,5))\n",
        "plt.title('3×3 Heat Map Graph')\n",
        "\n",
        "correlation_data3 = \n",
        "sns.\n",
        "plt.show()"
      ],
      "metadata": {
        "colab": {
          "base_uri": "https://localhost:8080/",
          "height": 468
        },
        "id": "4Pggsx6YYyBS",
        "outputId": "7b250ec4-db90-49e8-daf5-cf925acab31e"
      },
      "execution_count": null,
      "outputs": [
        {
          "output_type": "display_data",
          "data": {
            "text/plain": [
              "<Figure size 800x500 with 2 Axes>"
            ],
            "image/png": "[encoded data removed]"
          },
          "metadata": {}
        }
      ]
    }
  ]
}